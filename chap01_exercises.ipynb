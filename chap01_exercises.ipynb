{
 "cells": [
  {
   "metadata": {},
   "cell_type": "markdown",
   "source": [
    "### Exercise 1.1\n",
    "Select the ```birthord``` column from ```preg```, print the value counts, and compare to results published in the codebook."
   ],
   "id": "e606f7e4b66cd70"
  },
  {
   "metadata": {
    "ExecuteTime": {
     "end_time": "2025-06-04T11:09:42.599675Z",
     "start_time": "2025-06-04T11:09:42.597060Z"
    }
   },
   "cell_type": "code",
   "source": [
    "import pandas as pd\n",
    "import numpy as np"
   ],
   "id": "89bb7b059261e81f",
   "outputs": [],
   "execution_count": 8
  },
  {
   "cell_type": "code",
   "id": "initial_id",
   "metadata": {
    "collapsed": true,
    "ExecuteTime": {
     "end_time": "2025-06-04T11:10:17.984975Z",
     "start_time": "2025-06-04T11:10:17.906946Z"
    }
   },
   "source": [
    "preg = pd.read_csv('chap01/nsfg_pregnancy_data.csv')\n",
    "preg.head()"
   ],
   "outputs": [
    {
     "data": {
      "text/plain": [
       "   caseid  pregordr  howpreg_n  howpreg_p  moscurrp  nowprgdk  pregend1  \\\n",
       "0       1         1        NaN        NaN       NaN       NaN       6.0   \n",
       "1       1         2        NaN        NaN       NaN       NaN       6.0   \n",
       "2       2         1        NaN        NaN       NaN       NaN       5.0   \n",
       "3       2         2        NaN        NaN       NaN       NaN       6.0   \n",
       "4       2         3        NaN        NaN       NaN       NaN       6.0   \n",
       "\n",
       "   pregend2  nbrnaliv  multbrth  ...  poverty_i  laborfor_i  religion_i  \\\n",
       "0       NaN       1.0       NaN  ...          0           0           0   \n",
       "1       NaN       1.0       NaN  ...          0           0           0   \n",
       "2       NaN       3.0       5.0  ...          0           0           0   \n",
       "3       NaN       1.0       NaN  ...          0           0           0   \n",
       "4       NaN       1.0       NaN  ...          0           0           0   \n",
       "\n",
       "   metro_i      basewgt  adj_mod_basewgt      finalwgt  secu_p  sest  cmintvw  \n",
       "0        0  3410.389399      3869.349602   6448.271112       2     9     1231  \n",
       "1        0  3410.389399      3869.349602   6448.271112       2     9     1231  \n",
       "2        0  7226.301740      8567.549110  12999.542264       2    12     1231  \n",
       "3        0  7226.301740      8567.549110  12999.542264       2    12     1231  \n",
       "4        0  7226.301740      8567.549110  12999.542264       2    12     1231  \n",
       "\n",
       "[5 rows x 243 columns]"
      ],
      "text/html": [
       "<div>\n",
       "<style scoped>\n",
       "    .dataframe tbody tr th:only-of-type {\n",
       "        vertical-align: middle;\n",
       "    }\n",
       "\n",
       "    .dataframe tbody tr th {\n",
       "        vertical-align: top;\n",
       "    }\n",
       "\n",
       "    .dataframe thead th {\n",
       "        text-align: right;\n",
       "    }\n",
       "</style>\n",
       "<table border=\"1\" class=\"dataframe\">\n",
       "  <thead>\n",
       "    <tr style=\"text-align: right;\">\n",
       "      <th></th>\n",
       "      <th>caseid</th>\n",
       "      <th>pregordr</th>\n",
       "      <th>howpreg_n</th>\n",
       "      <th>howpreg_p</th>\n",
       "      <th>moscurrp</th>\n",
       "      <th>nowprgdk</th>\n",
       "      <th>pregend1</th>\n",
       "      <th>pregend2</th>\n",
       "      <th>nbrnaliv</th>\n",
       "      <th>multbrth</th>\n",
       "      <th>...</th>\n",
       "      <th>poverty_i</th>\n",
       "      <th>laborfor_i</th>\n",
       "      <th>religion_i</th>\n",
       "      <th>metro_i</th>\n",
       "      <th>basewgt</th>\n",
       "      <th>adj_mod_basewgt</th>\n",
       "      <th>finalwgt</th>\n",
       "      <th>secu_p</th>\n",
       "      <th>sest</th>\n",
       "      <th>cmintvw</th>\n",
       "    </tr>\n",
       "  </thead>\n",
       "  <tbody>\n",
       "    <tr>\n",
       "      <th>0</th>\n",
       "      <td>1</td>\n",
       "      <td>1</td>\n",
       "      <td>NaN</td>\n",
       "      <td>NaN</td>\n",
       "      <td>NaN</td>\n",
       "      <td>NaN</td>\n",
       "      <td>6.0</td>\n",
       "      <td>NaN</td>\n",
       "      <td>1.0</td>\n",
       "      <td>NaN</td>\n",
       "      <td>...</td>\n",
       "      <td>0</td>\n",
       "      <td>0</td>\n",
       "      <td>0</td>\n",
       "      <td>0</td>\n",
       "      <td>3410.389399</td>\n",
       "      <td>3869.349602</td>\n",
       "      <td>6448.271112</td>\n",
       "      <td>2</td>\n",
       "      <td>9</td>\n",
       "      <td>1231</td>\n",
       "    </tr>\n",
       "    <tr>\n",
       "      <th>1</th>\n",
       "      <td>1</td>\n",
       "      <td>2</td>\n",
       "      <td>NaN</td>\n",
       "      <td>NaN</td>\n",
       "      <td>NaN</td>\n",
       "      <td>NaN</td>\n",
       "      <td>6.0</td>\n",
       "      <td>NaN</td>\n",
       "      <td>1.0</td>\n",
       "      <td>NaN</td>\n",
       "      <td>...</td>\n",
       "      <td>0</td>\n",
       "      <td>0</td>\n",
       "      <td>0</td>\n",
       "      <td>0</td>\n",
       "      <td>3410.389399</td>\n",
       "      <td>3869.349602</td>\n",
       "      <td>6448.271112</td>\n",
       "      <td>2</td>\n",
       "      <td>9</td>\n",
       "      <td>1231</td>\n",
       "    </tr>\n",
       "    <tr>\n",
       "      <th>2</th>\n",
       "      <td>2</td>\n",
       "      <td>1</td>\n",
       "      <td>NaN</td>\n",
       "      <td>NaN</td>\n",
       "      <td>NaN</td>\n",
       "      <td>NaN</td>\n",
       "      <td>5.0</td>\n",
       "      <td>NaN</td>\n",
       "      <td>3.0</td>\n",
       "      <td>5.0</td>\n",
       "      <td>...</td>\n",
       "      <td>0</td>\n",
       "      <td>0</td>\n",
       "      <td>0</td>\n",
       "      <td>0</td>\n",
       "      <td>7226.301740</td>\n",
       "      <td>8567.549110</td>\n",
       "      <td>12999.542264</td>\n",
       "      <td>2</td>\n",
       "      <td>12</td>\n",
       "      <td>1231</td>\n",
       "    </tr>\n",
       "    <tr>\n",
       "      <th>3</th>\n",
       "      <td>2</td>\n",
       "      <td>2</td>\n",
       "      <td>NaN</td>\n",
       "      <td>NaN</td>\n",
       "      <td>NaN</td>\n",
       "      <td>NaN</td>\n",
       "      <td>6.0</td>\n",
       "      <td>NaN</td>\n",
       "      <td>1.0</td>\n",
       "      <td>NaN</td>\n",
       "      <td>...</td>\n",
       "      <td>0</td>\n",
       "      <td>0</td>\n",
       "      <td>0</td>\n",
       "      <td>0</td>\n",
       "      <td>7226.301740</td>\n",
       "      <td>8567.549110</td>\n",
       "      <td>12999.542264</td>\n",
       "      <td>2</td>\n",
       "      <td>12</td>\n",
       "      <td>1231</td>\n",
       "    </tr>\n",
       "    <tr>\n",
       "      <th>4</th>\n",
       "      <td>2</td>\n",
       "      <td>3</td>\n",
       "      <td>NaN</td>\n",
       "      <td>NaN</td>\n",
       "      <td>NaN</td>\n",
       "      <td>NaN</td>\n",
       "      <td>6.0</td>\n",
       "      <td>NaN</td>\n",
       "      <td>1.0</td>\n",
       "      <td>NaN</td>\n",
       "      <td>...</td>\n",
       "      <td>0</td>\n",
       "      <td>0</td>\n",
       "      <td>0</td>\n",
       "      <td>0</td>\n",
       "      <td>7226.301740</td>\n",
       "      <td>8567.549110</td>\n",
       "      <td>12999.542264</td>\n",
       "      <td>2</td>\n",
       "      <td>12</td>\n",
       "      <td>1231</td>\n",
       "    </tr>\n",
       "  </tbody>\n",
       "</table>\n",
       "<p>5 rows × 243 columns</p>\n",
       "</div>"
      ]
     },
     "execution_count": 11,
     "metadata": {},
     "output_type": "execute_result"
    }
   ],
   "execution_count": 11
  },
  {
   "metadata": {},
   "cell_type": "markdown",
   "source": "In the codebook, ```birthord``` is birth order, which is applicable for all pregnancies that resulted in live birth (OUTCOME=1).",
   "id": "c71fd4e5cfd4409e"
  },
  {
   "metadata": {
    "ExecuteTime": {
     "end_time": "2025-06-04T11:10:48.419426Z",
     "start_time": "2025-06-04T11:10:48.416942Z"
    }
   },
   "cell_type": "code",
   "source": "preg.shape",
   "id": "ae45a010ffdfc9dc",
   "outputs": [
    {
     "data": {
      "text/plain": [
       "(13593, 243)"
      ]
     },
     "execution_count": 12,
     "metadata": {},
     "output_type": "execute_result"
    }
   ],
   "execution_count": 12
  },
  {
   "metadata": {
    "ExecuteTime": {
     "end_time": "2025-06-04T10:57:22.061269Z",
     "start_time": "2025-06-04T10:57:22.057016Z"
    }
   },
   "cell_type": "code",
   "source": [
    "preg_birthord = preg['birthord']\n",
    "preg_birthord.unique()"
   ],
   "id": "c9fb38cfcc491e55",
   "outputs": [
    {
     "data": {
      "text/plain": [
       "array([ 1.,  2.,  3., nan,  4.,  5.,  6.,  7.,  8.,  9., 10.])"
      ]
     },
     "execution_count": 3,
     "metadata": {},
     "output_type": "execute_result"
    }
   ],
   "execution_count": 3
  },
  {
   "metadata": {
    "ExecuteTime": {
     "end_time": "2025-06-04T12:02:33.446218Z",
     "start_time": "2025-06-04T12:02:33.441925Z"
    }
   },
   "cell_type": "code",
   "source": "preg_birthord.value_counts().sort_index()",
   "id": "d6dc8d835ac6059f",
   "outputs": [
    {
     "data": {
      "text/plain": [
       "birthord\n",
       "1.0     4413\n",
       "2.0     2874\n",
       "3.0     1234\n",
       "4.0      421\n",
       "5.0      126\n",
       "6.0       50\n",
       "7.0       20\n",
       "8.0        7\n",
       "9.0        2\n",
       "10.0       1\n",
       "Name: count, dtype: int64"
      ]
     },
     "execution_count": 44,
     "metadata": {},
     "output_type": "execute_result"
    }
   ],
   "execution_count": 44
  },
  {
   "metadata": {},
   "cell_type": "markdown",
   "source": "We can also use ```isnull``` to count the number of nans.",
   "id": "8446697769fd3938"
  },
  {
   "metadata": {
    "ExecuteTime": {
     "end_time": "2025-06-04T12:03:48.031076Z",
     "start_time": "2025-06-04T12:03:48.028534Z"
    }
   },
   "cell_type": "code",
   "source": "preg_birthord.isnull().sum()",
   "id": "36bd33e6eca1f1eb",
   "outputs": [
    {
     "data": {
      "text/plain": [
       "np.int64(4445)"
      ]
     },
     "execution_count": 45,
     "metadata": {},
     "output_type": "execute_result"
    }
   ],
   "execution_count": 45
  },
  {
   "metadata": {},
   "cell_type": "markdown",
   "source": "As ```value_counts()``` shows, the result is same as the values in codebook.",
   "id": "fbc598652b0b2048"
  },
  {
   "metadata": {},
   "cell_type": "markdown",
   "source": [
    "### Exercise 1.2\n",
    "Create a new column named ```totalwgt_kg``` that contains birth weight in kilograms (there are approximately 2.2 pounds per kilogram). Compute the mean and standard deviation of the new column."
   ],
   "id": "69a645fe18233b28"
  },
  {
   "metadata": {
    "ExecuteTime": {
     "end_time": "2025-06-04T11:05:10.657927Z",
     "start_time": "2025-06-04T11:05:10.653011Z"
    }
   },
   "cell_type": "code",
   "source": "preg['birthwgt_lb'].value_counts().sort_index()",
   "id": "9bf467cd5d16c229",
   "outputs": [
    {
     "data": {
      "text/plain": [
       "birthwgt_lb\n",
       "0.0        8\n",
       "1.0       40\n",
       "2.0       53\n",
       "3.0       98\n",
       "4.0      229\n",
       "5.0      697\n",
       "6.0     2223\n",
       "7.0     3049\n",
       "8.0     1889\n",
       "9.0      623\n",
       "10.0     132\n",
       "11.0      26\n",
       "12.0      10\n",
       "13.0       3\n",
       "14.0       3\n",
       "15.0       1\n",
       "51.0       1\n",
       "97.0       1\n",
       "98.0       1\n",
       "99.0      57\n",
       "Name: count, dtype: int64"
      ]
     },
     "execution_count": 6,
     "metadata": {},
     "output_type": "execute_result"
    }
   ],
   "execution_count": 6
  },
  {
   "metadata": {
    "ExecuteTime": {
     "end_time": "2025-06-04T11:05:56.825424Z",
     "start_time": "2025-06-04T11:05:56.820303Z"
    }
   },
   "cell_type": "code",
   "source": "preg['birthwgt_oz'].value_counts().sort_index()",
   "id": "c9afd924df20cd6f",
   "outputs": [
    {
     "data": {
      "text/plain": [
       "birthwgt_oz\n",
       "0.0     1037\n",
       "1.0      408\n",
       "2.0      603\n",
       "3.0      533\n",
       "4.0      525\n",
       "5.0      535\n",
       "6.0      709\n",
       "7.0      501\n",
       "8.0      756\n",
       "9.0      505\n",
       "10.0     475\n",
       "11.0     557\n",
       "12.0     555\n",
       "13.0     487\n",
       "14.0     475\n",
       "15.0     378\n",
       "97.0       1\n",
       "98.0       1\n",
       "99.0      46\n",
       "Name: count, dtype: int64"
      ]
     },
     "execution_count": 7,
     "metadata": {},
     "output_type": "execute_result"
    }
   ],
   "execution_count": 7
  },
  {
   "metadata": {},
   "cell_type": "markdown",
   "source": [
    "1. Drop the rows with the error weight values.\n",
    "2. Create the new column named ```totalwgt_kg``` by the columns ```birthwgt_lb``` and ```birthwgt_oz```."
   ],
   "id": "ef70444711a32146"
  },
  {
   "metadata": {
    "ExecuteTime": {
     "end_time": "2025-06-04T11:11:28.261056Z",
     "start_time": "2025-06-04T11:11:28.255439Z"
    }
   },
   "cell_type": "code",
   "source": [
    "preg[\"birthwgt_lb\"] = preg[\"birthwgt_lb\"].replace([51, 97, 98, 99], np.nan)\n",
    "preg[\"birthwgt_oz\"] = preg[\"birthwgt_oz\"].replace([97, 98, 99], np.nan)"
   ],
   "id": "6f36d7c971b30642",
   "outputs": [],
   "execution_count": 13
  },
  {
   "metadata": {
    "ExecuteTime": {
     "end_time": "2025-06-04T11:22:44.447893Z",
     "start_time": "2025-06-04T11:22:44.441753Z"
    }
   },
   "cell_type": "code",
   "source": [
    "# Check how the dataframe calculates the NaN values\n",
    "df = pd.DataFrame({\n",
    "    \"w_lb\": [3, 4, 5, 6, np.nan, 7, 3, 4, 8],\n",
    "    \"w_oz\": [10, 9, 4, np.nan, 5, np.nan, 11, 9, 0]\n",
    "})\n",
    "df['total_w_'] = df['w_lb'] + df['w_oz'] / 16\n",
    "df"
   ],
   "id": "590c5744332f43d1",
   "outputs": [
    {
     "data": {
      "text/plain": [
       "   w_lb  w_oz  total_w_\n",
       "0   3.0  10.0    3.6250\n",
       "1   4.0   9.0    4.5625\n",
       "2   5.0   4.0    5.2500\n",
       "3   6.0   NaN       NaN\n",
       "4   NaN   5.0       NaN\n",
       "5   7.0   NaN       NaN\n",
       "6   3.0  11.0    3.6875\n",
       "7   4.0   9.0    4.5625\n",
       "8   8.0   0.0    8.0000"
      ],
      "text/html": [
       "<div>\n",
       "<style scoped>\n",
       "    .dataframe tbody tr th:only-of-type {\n",
       "        vertical-align: middle;\n",
       "    }\n",
       "\n",
       "    .dataframe tbody tr th {\n",
       "        vertical-align: top;\n",
       "    }\n",
       "\n",
       "    .dataframe thead th {\n",
       "        text-align: right;\n",
       "    }\n",
       "</style>\n",
       "<table border=\"1\" class=\"dataframe\">\n",
       "  <thead>\n",
       "    <tr style=\"text-align: right;\">\n",
       "      <th></th>\n",
       "      <th>w_lb</th>\n",
       "      <th>w_oz</th>\n",
       "      <th>total_w_</th>\n",
       "    </tr>\n",
       "  </thead>\n",
       "  <tbody>\n",
       "    <tr>\n",
       "      <th>0</th>\n",
       "      <td>3.0</td>\n",
       "      <td>10.0</td>\n",
       "      <td>3.6250</td>\n",
       "    </tr>\n",
       "    <tr>\n",
       "      <th>1</th>\n",
       "      <td>4.0</td>\n",
       "      <td>9.0</td>\n",
       "      <td>4.5625</td>\n",
       "    </tr>\n",
       "    <tr>\n",
       "      <th>2</th>\n",
       "      <td>5.0</td>\n",
       "      <td>4.0</td>\n",
       "      <td>5.2500</td>\n",
       "    </tr>\n",
       "    <tr>\n",
       "      <th>3</th>\n",
       "      <td>6.0</td>\n",
       "      <td>NaN</td>\n",
       "      <td>NaN</td>\n",
       "    </tr>\n",
       "    <tr>\n",
       "      <th>4</th>\n",
       "      <td>NaN</td>\n",
       "      <td>5.0</td>\n",
       "      <td>NaN</td>\n",
       "    </tr>\n",
       "    <tr>\n",
       "      <th>5</th>\n",
       "      <td>7.0</td>\n",
       "      <td>NaN</td>\n",
       "      <td>NaN</td>\n",
       "    </tr>\n",
       "    <tr>\n",
       "      <th>6</th>\n",
       "      <td>3.0</td>\n",
       "      <td>11.0</td>\n",
       "      <td>3.6875</td>\n",
       "    </tr>\n",
       "    <tr>\n",
       "      <th>7</th>\n",
       "      <td>4.0</td>\n",
       "      <td>9.0</td>\n",
       "      <td>4.5625</td>\n",
       "    </tr>\n",
       "    <tr>\n",
       "      <th>8</th>\n",
       "      <td>8.0</td>\n",
       "      <td>0.0</td>\n",
       "      <td>8.0000</td>\n",
       "    </tr>\n",
       "  </tbody>\n",
       "</table>\n",
       "</div>"
      ]
     },
     "execution_count": 17,
     "metadata": {},
     "output_type": "execute_result"
    }
   ],
   "execution_count": 17
  },
  {
   "metadata": {},
   "cell_type": "markdown",
   "source": "Therefore, the calculation with NaN gets NaN as result.",
   "id": "4785f59efa6ecc99"
  },
  {
   "metadata": {
    "ExecuteTime": {
     "end_time": "2025-06-04T11:25:41.322539Z",
     "start_time": "2025-06-04T11:25:41.319453Z"
    }
   },
   "cell_type": "code",
   "source": [
    "preg['totalwgt_kg'] = (preg['birthwgt_lb'] + preg['birthwgt_oz'] / 16) / 2.205\n",
    "totalwgt_kg = preg['totalwgt_kg']"
   ],
   "id": "74f9a02fa124fb6a",
   "outputs": [],
   "execution_count": 19
  },
  {
   "metadata": {
    "ExecuteTime": {
     "end_time": "2025-06-04T11:26:03.637499Z",
     "start_time": "2025-06-04T11:26:03.633980Z"
    }
   },
   "cell_type": "code",
   "source": "totalwgt_kg.mean()",
   "id": "b725cf3e56d42414",
   "outputs": [
    {
     "data": {
      "text/plain": [
       "np.float64(3.2950695952940445)"
      ]
     },
     "execution_count": 20,
     "metadata": {},
     "output_type": "execute_result"
    }
   ],
   "execution_count": 20
  },
  {
   "metadata": {
    "ExecuteTime": {
     "end_time": "2025-06-04T11:26:15.095761Z",
     "start_time": "2025-06-04T11:26:15.090972Z"
    }
   },
   "cell_type": "code",
   "source": "totalwgt_kg.std()",
   "id": "e14388d914ee1934",
   "outputs": [
    {
     "data": {
      "text/plain": [
       "np.float64(0.6386818347251778)"
      ]
     },
     "execution_count": 21,
     "metadata": {},
     "output_type": "execute_result"
    }
   ],
   "execution_count": 21
  },
  {
   "metadata": {},
   "cell_type": "markdown",
   "source": [
    "### Exercise 1.3\n",
    "What are the pregnancy lengths for the respondent with ```caseid``` 2298?"
   ],
   "id": "e0fcf7befff2a724"
  },
  {
   "metadata": {
    "ExecuteTime": {
     "end_time": "2025-06-04T11:41:06.759593Z",
     "start_time": "2025-06-04T11:41:06.732606Z"
    }
   },
   "cell_type": "code",
   "source": "preg.query(\"caseid == 2298\")",
   "id": "c82c4e54b9c6cb3f",
   "outputs": [
    {
     "data": {
      "text/plain": [
       "      caseid  pregordr  howpreg_n  howpreg_p  moscurrp  nowprgdk  pregend1  \\\n",
       "2610    2298         1        NaN        NaN       NaN       NaN       6.0   \n",
       "2611    2298         2        NaN        NaN       NaN       NaN       6.0   \n",
       "2612    2298         3        NaN        NaN       NaN       NaN       6.0   \n",
       "2613    2298         4        NaN        NaN       NaN       NaN       6.0   \n",
       "\n",
       "      pregend2  nbrnaliv  multbrth  ...  laborfor_i  religion_i  metro_i  \\\n",
       "2610       NaN       1.0       NaN  ...           0           0        0   \n",
       "2611       NaN       1.0       NaN  ...           0           0        0   \n",
       "2612       NaN       1.0       NaN  ...           0           0        0   \n",
       "2613       NaN       1.0       NaN  ...           0           0        0   \n",
       "\n",
       "          basewgt  adj_mod_basewgt     finalwgt  secu_p  sest  cmintvw  \\\n",
       "2610  3247.916977      5123.759559  5556.717241       2    18     1234   \n",
       "2611  3247.916977      5123.759559  5556.717241       2    18     1234   \n",
       "2612  3247.916977      5123.759559  5556.717241       2    18     1234   \n",
       "2613  3247.916977      5123.759559  5556.717241       2    18     1234   \n",
       "\n",
       "      totalwgt_kg  \n",
       "2610     3.117914  \n",
       "2611     2.494331  \n",
       "2612     1.899093  \n",
       "2613     3.117914  \n",
       "\n",
       "[4 rows x 244 columns]"
      ],
      "text/html": [
       "<div>\n",
       "<style scoped>\n",
       "    .dataframe tbody tr th:only-of-type {\n",
       "        vertical-align: middle;\n",
       "    }\n",
       "\n",
       "    .dataframe tbody tr th {\n",
       "        vertical-align: top;\n",
       "    }\n",
       "\n",
       "    .dataframe thead th {\n",
       "        text-align: right;\n",
       "    }\n",
       "</style>\n",
       "<table border=\"1\" class=\"dataframe\">\n",
       "  <thead>\n",
       "    <tr style=\"text-align: right;\">\n",
       "      <th></th>\n",
       "      <th>caseid</th>\n",
       "      <th>pregordr</th>\n",
       "      <th>howpreg_n</th>\n",
       "      <th>howpreg_p</th>\n",
       "      <th>moscurrp</th>\n",
       "      <th>nowprgdk</th>\n",
       "      <th>pregend1</th>\n",
       "      <th>pregend2</th>\n",
       "      <th>nbrnaliv</th>\n",
       "      <th>multbrth</th>\n",
       "      <th>...</th>\n",
       "      <th>laborfor_i</th>\n",
       "      <th>religion_i</th>\n",
       "      <th>metro_i</th>\n",
       "      <th>basewgt</th>\n",
       "      <th>adj_mod_basewgt</th>\n",
       "      <th>finalwgt</th>\n",
       "      <th>secu_p</th>\n",
       "      <th>sest</th>\n",
       "      <th>cmintvw</th>\n",
       "      <th>totalwgt_kg</th>\n",
       "    </tr>\n",
       "  </thead>\n",
       "  <tbody>\n",
       "    <tr>\n",
       "      <th>2610</th>\n",
       "      <td>2298</td>\n",
       "      <td>1</td>\n",
       "      <td>NaN</td>\n",
       "      <td>NaN</td>\n",
       "      <td>NaN</td>\n",
       "      <td>NaN</td>\n",
       "      <td>6.0</td>\n",
       "      <td>NaN</td>\n",
       "      <td>1.0</td>\n",
       "      <td>NaN</td>\n",
       "      <td>...</td>\n",
       "      <td>0</td>\n",
       "      <td>0</td>\n",
       "      <td>0</td>\n",
       "      <td>3247.916977</td>\n",
       "      <td>5123.759559</td>\n",
       "      <td>5556.717241</td>\n",
       "      <td>2</td>\n",
       "      <td>18</td>\n",
       "      <td>1234</td>\n",
       "      <td>3.117914</td>\n",
       "    </tr>\n",
       "    <tr>\n",
       "      <th>2611</th>\n",
       "      <td>2298</td>\n",
       "      <td>2</td>\n",
       "      <td>NaN</td>\n",
       "      <td>NaN</td>\n",
       "      <td>NaN</td>\n",
       "      <td>NaN</td>\n",
       "      <td>6.0</td>\n",
       "      <td>NaN</td>\n",
       "      <td>1.0</td>\n",
       "      <td>NaN</td>\n",
       "      <td>...</td>\n",
       "      <td>0</td>\n",
       "      <td>0</td>\n",
       "      <td>0</td>\n",
       "      <td>3247.916977</td>\n",
       "      <td>5123.759559</td>\n",
       "      <td>5556.717241</td>\n",
       "      <td>2</td>\n",
       "      <td>18</td>\n",
       "      <td>1234</td>\n",
       "      <td>2.494331</td>\n",
       "    </tr>\n",
       "    <tr>\n",
       "      <th>2612</th>\n",
       "      <td>2298</td>\n",
       "      <td>3</td>\n",
       "      <td>NaN</td>\n",
       "      <td>NaN</td>\n",
       "      <td>NaN</td>\n",
       "      <td>NaN</td>\n",
       "      <td>6.0</td>\n",
       "      <td>NaN</td>\n",
       "      <td>1.0</td>\n",
       "      <td>NaN</td>\n",
       "      <td>...</td>\n",
       "      <td>0</td>\n",
       "      <td>0</td>\n",
       "      <td>0</td>\n",
       "      <td>3247.916977</td>\n",
       "      <td>5123.759559</td>\n",
       "      <td>5556.717241</td>\n",
       "      <td>2</td>\n",
       "      <td>18</td>\n",
       "      <td>1234</td>\n",
       "      <td>1.899093</td>\n",
       "    </tr>\n",
       "    <tr>\n",
       "      <th>2613</th>\n",
       "      <td>2298</td>\n",
       "      <td>4</td>\n",
       "      <td>NaN</td>\n",
       "      <td>NaN</td>\n",
       "      <td>NaN</td>\n",
       "      <td>NaN</td>\n",
       "      <td>6.0</td>\n",
       "      <td>NaN</td>\n",
       "      <td>1.0</td>\n",
       "      <td>NaN</td>\n",
       "      <td>...</td>\n",
       "      <td>0</td>\n",
       "      <td>0</td>\n",
       "      <td>0</td>\n",
       "      <td>3247.916977</td>\n",
       "      <td>5123.759559</td>\n",
       "      <td>5556.717241</td>\n",
       "      <td>2</td>\n",
       "      <td>18</td>\n",
       "      <td>1234</td>\n",
       "      <td>3.117914</td>\n",
       "    </tr>\n",
       "  </tbody>\n",
       "</table>\n",
       "<p>4 rows × 244 columns</p>\n",
       "</div>"
      ]
     },
     "execution_count": 23,
     "metadata": {},
     "output_type": "execute_result"
    }
   ],
   "execution_count": 23
  },
  {
   "metadata": {
    "ExecuteTime": {
     "end_time": "2025-06-04T11:47:25.259986Z",
     "start_time": "2025-06-04T11:47:25.252733Z"
    }
   },
   "cell_type": "code",
   "source": "preg.loc[preg['caseid'] == 2298, ['gestasun_m', 'gestasun_w']]",
   "id": "5f1e1facf4db2984",
   "outputs": [
    {
     "data": {
      "text/plain": [
       "      gestasun_m  gestasun_w\n",
       "2610         0.0        40.0\n",
       "2611         0.0        36.0\n",
       "2612         0.0        30.0\n",
       "2613         0.0        40.0"
      ],
      "text/html": [
       "<div>\n",
       "<style scoped>\n",
       "    .dataframe tbody tr th:only-of-type {\n",
       "        vertical-align: middle;\n",
       "    }\n",
       "\n",
       "    .dataframe tbody tr th {\n",
       "        vertical-align: top;\n",
       "    }\n",
       "\n",
       "    .dataframe thead th {\n",
       "        text-align: right;\n",
       "    }\n",
       "</style>\n",
       "<table border=\"1\" class=\"dataframe\">\n",
       "  <thead>\n",
       "    <tr style=\"text-align: right;\">\n",
       "      <th></th>\n",
       "      <th>gestasun_m</th>\n",
       "      <th>gestasun_w</th>\n",
       "    </tr>\n",
       "  </thead>\n",
       "  <tbody>\n",
       "    <tr>\n",
       "      <th>2610</th>\n",
       "      <td>0.0</td>\n",
       "      <td>40.0</td>\n",
       "    </tr>\n",
       "    <tr>\n",
       "      <th>2611</th>\n",
       "      <td>0.0</td>\n",
       "      <td>36.0</td>\n",
       "    </tr>\n",
       "    <tr>\n",
       "      <th>2612</th>\n",
       "      <td>0.0</td>\n",
       "      <td>30.0</td>\n",
       "    </tr>\n",
       "    <tr>\n",
       "      <th>2613</th>\n",
       "      <td>0.0</td>\n",
       "      <td>40.0</td>\n",
       "    </tr>\n",
       "  </tbody>\n",
       "</table>\n",
       "</div>"
      ]
     },
     "execution_count": 24,
     "metadata": {},
     "output_type": "execute_result"
    }
   ],
   "execution_count": 24
  },
  {
   "metadata": {},
   "cell_type": "markdown",
   "source": [
    "According to the data, the pregnancy lengths for the respondent with ```caseid``` 2298 are:\n",
    "* 40 weeks\n",
    "* 36 weeks\n",
    "* 30 weeks\n",
    "* 40 weeks"
   ],
   "id": "8a0defbcfb0e1056"
  },
  {
   "metadata": {},
   "cell_type": "markdown",
   "source": "What was the birth weight of the first baby born to the respondent with ```caseid``` 5013?",
   "id": "d32edf3aa028249"
  },
  {
   "metadata": {
    "ExecuteTime": {
     "end_time": "2025-06-04T12:00:28.467952Z",
     "start_time": "2025-06-04T12:00:28.461384Z"
    }
   },
   "cell_type": "code",
   "source": "preg.loc[(preg['caseid'] == 5013) & (preg['pregordr'] == 1), ['totalwgt_kg']]",
   "id": "8f6268dea0904f7d",
   "outputs": [
    {
     "data": {
      "text/plain": [
       "      totalwgt_kg\n",
       "5516     3.344671"
      ],
      "text/html": [
       "<div>\n",
       "<style scoped>\n",
       "    .dataframe tbody tr th:only-of-type {\n",
       "        vertical-align: middle;\n",
       "    }\n",
       "\n",
       "    .dataframe tbody tr th {\n",
       "        vertical-align: top;\n",
       "    }\n",
       "\n",
       "    .dataframe thead th {\n",
       "        text-align: right;\n",
       "    }\n",
       "</style>\n",
       "<table border=\"1\" class=\"dataframe\">\n",
       "  <thead>\n",
       "    <tr style=\"text-align: right;\">\n",
       "      <th></th>\n",
       "      <th>totalwgt_kg</th>\n",
       "    </tr>\n",
       "  </thead>\n",
       "  <tbody>\n",
       "    <tr>\n",
       "      <th>5516</th>\n",
       "      <td>3.344671</td>\n",
       "    </tr>\n",
       "  </tbody>\n",
       "</table>\n",
       "</div>"
      ]
     },
     "execution_count": 43,
     "metadata": {},
     "output_type": "execute_result"
    }
   ],
   "execution_count": 43
  },
  {
   "metadata": {},
   "cell_type": "code",
   "outputs": [],
   "execution_count": null,
   "source": "",
   "id": "232ff68309f88d47"
  }
 ],
 "metadata": {
  "kernelspec": {
   "display_name": "Python 3",
   "language": "python",
   "name": "python3"
  },
  "language_info": {
   "codemirror_mode": {
    "name": "ipython",
    "version": 2
   },
   "file_extension": ".py",
   "mimetype": "text/x-python",
   "name": "python",
   "nbconvert_exporter": "python",
   "pygments_lexer": "ipython2",
   "version": "2.7.6"
  }
 },
 "nbformat": 4,
 "nbformat_minor": 5
}
