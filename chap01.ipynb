{
 "cells": [
  {
   "metadata": {},
   "cell_type": "markdown",
   "source": "## 01. Whether First Babies Tend to Be Born Late",
   "id": "24e0405fde16a9e0"
  },
  {
   "cell_type": "code",
   "id": "initial_id",
   "metadata": {
    "collapsed": true,
    "ExecuteTime": {
     "end_time": "2025-06-04T00:56:40.266815Z",
     "start_time": "2025-06-04T00:56:40.263980Z"
    }
   },
   "source": [
    "import numpy as np\n",
    "import pandas as pd"
   ],
   "outputs": [],
   "execution_count": 30
  },
  {
   "metadata": {
    "ExecuteTime": {
     "end_time": "2025-06-04T00:24:47.147581Z",
     "start_time": "2025-06-04T00:24:47.144924Z"
    }
   },
   "cell_type": "code",
   "source": "from IPython.display import HTML",
   "id": "8427d21c05ec64c3",
   "outputs": [],
   "execution_count": 8
  },
  {
   "metadata": {
    "ExecuteTime": {
     "end_time": "2025-06-04T01:04:30.033651Z",
     "start_time": "2025-06-04T01:04:29.957021Z"
    }
   },
   "cell_type": "code",
   "source": [
    "preg = pd.read_csv('chap01/nsfg_pregnancy_data.csv')\n",
    "preg.head()"
   ],
   "id": "2fd71793663eb421",
   "outputs": [
    {
     "data": {
      "text/plain": [
       "   caseid  pregordr  howpreg_n  howpreg_p  moscurrp  nowprgdk  pregend1  \\\n",
       "0       1         1        NaN        NaN       NaN       NaN       6.0   \n",
       "1       1         2        NaN        NaN       NaN       NaN       6.0   \n",
       "2       2         1        NaN        NaN       NaN       NaN       5.0   \n",
       "3       2         2        NaN        NaN       NaN       NaN       6.0   \n",
       "4       2         3        NaN        NaN       NaN       NaN       6.0   \n",
       "\n",
       "   pregend2  nbrnaliv  multbrth  ...  poverty_i  laborfor_i  religion_i  \\\n",
       "0       NaN       1.0       NaN  ...          0           0           0   \n",
       "1       NaN       1.0       NaN  ...          0           0           0   \n",
       "2       NaN       3.0       5.0  ...          0           0           0   \n",
       "3       NaN       1.0       NaN  ...          0           0           0   \n",
       "4       NaN       1.0       NaN  ...          0           0           0   \n",
       "\n",
       "   metro_i      basewgt  adj_mod_basewgt      finalwgt  secu_p  sest  cmintvw  \n",
       "0        0  3410.389399      3869.349602   6448.271112       2     9     1231  \n",
       "1        0  3410.389399      3869.349602   6448.271112       2     9     1231  \n",
       "2        0  7226.301740      8567.549110  12999.542264       2    12     1231  \n",
       "3        0  7226.301740      8567.549110  12999.542264       2    12     1231  \n",
       "4        0  7226.301740      8567.549110  12999.542264       2    12     1231  \n",
       "\n",
       "[5 rows x 243 columns]"
      ],
      "text/html": [
       "<div>\n",
       "<style scoped>\n",
       "    .dataframe tbody tr th:only-of-type {\n",
       "        vertical-align: middle;\n",
       "    }\n",
       "\n",
       "    .dataframe tbody tr th {\n",
       "        vertical-align: top;\n",
       "    }\n",
       "\n",
       "    .dataframe thead th {\n",
       "        text-align: right;\n",
       "    }\n",
       "</style>\n",
       "<table border=\"1\" class=\"dataframe\">\n",
       "  <thead>\n",
       "    <tr style=\"text-align: right;\">\n",
       "      <th></th>\n",
       "      <th>caseid</th>\n",
       "      <th>pregordr</th>\n",
       "      <th>howpreg_n</th>\n",
       "      <th>howpreg_p</th>\n",
       "      <th>moscurrp</th>\n",
       "      <th>nowprgdk</th>\n",
       "      <th>pregend1</th>\n",
       "      <th>pregend2</th>\n",
       "      <th>nbrnaliv</th>\n",
       "      <th>multbrth</th>\n",
       "      <th>...</th>\n",
       "      <th>poverty_i</th>\n",
       "      <th>laborfor_i</th>\n",
       "      <th>religion_i</th>\n",
       "      <th>metro_i</th>\n",
       "      <th>basewgt</th>\n",
       "      <th>adj_mod_basewgt</th>\n",
       "      <th>finalwgt</th>\n",
       "      <th>secu_p</th>\n",
       "      <th>sest</th>\n",
       "      <th>cmintvw</th>\n",
       "    </tr>\n",
       "  </thead>\n",
       "  <tbody>\n",
       "    <tr>\n",
       "      <th>0</th>\n",
       "      <td>1</td>\n",
       "      <td>1</td>\n",
       "      <td>NaN</td>\n",
       "      <td>NaN</td>\n",
       "      <td>NaN</td>\n",
       "      <td>NaN</td>\n",
       "      <td>6.0</td>\n",
       "      <td>NaN</td>\n",
       "      <td>1.0</td>\n",
       "      <td>NaN</td>\n",
       "      <td>...</td>\n",
       "      <td>0</td>\n",
       "      <td>0</td>\n",
       "      <td>0</td>\n",
       "      <td>0</td>\n",
       "      <td>3410.389399</td>\n",
       "      <td>3869.349602</td>\n",
       "      <td>6448.271112</td>\n",
       "      <td>2</td>\n",
       "      <td>9</td>\n",
       "      <td>1231</td>\n",
       "    </tr>\n",
       "    <tr>\n",
       "      <th>1</th>\n",
       "      <td>1</td>\n",
       "      <td>2</td>\n",
       "      <td>NaN</td>\n",
       "      <td>NaN</td>\n",
       "      <td>NaN</td>\n",
       "      <td>NaN</td>\n",
       "      <td>6.0</td>\n",
       "      <td>NaN</td>\n",
       "      <td>1.0</td>\n",
       "      <td>NaN</td>\n",
       "      <td>...</td>\n",
       "      <td>0</td>\n",
       "      <td>0</td>\n",
       "      <td>0</td>\n",
       "      <td>0</td>\n",
       "      <td>3410.389399</td>\n",
       "      <td>3869.349602</td>\n",
       "      <td>6448.271112</td>\n",
       "      <td>2</td>\n",
       "      <td>9</td>\n",
       "      <td>1231</td>\n",
       "    </tr>\n",
       "    <tr>\n",
       "      <th>2</th>\n",
       "      <td>2</td>\n",
       "      <td>1</td>\n",
       "      <td>NaN</td>\n",
       "      <td>NaN</td>\n",
       "      <td>NaN</td>\n",
       "      <td>NaN</td>\n",
       "      <td>5.0</td>\n",
       "      <td>NaN</td>\n",
       "      <td>3.0</td>\n",
       "      <td>5.0</td>\n",
       "      <td>...</td>\n",
       "      <td>0</td>\n",
       "      <td>0</td>\n",
       "      <td>0</td>\n",
       "      <td>0</td>\n",
       "      <td>7226.301740</td>\n",
       "      <td>8567.549110</td>\n",
       "      <td>12999.542264</td>\n",
       "      <td>2</td>\n",
       "      <td>12</td>\n",
       "      <td>1231</td>\n",
       "    </tr>\n",
       "    <tr>\n",
       "      <th>3</th>\n",
       "      <td>2</td>\n",
       "      <td>2</td>\n",
       "      <td>NaN</td>\n",
       "      <td>NaN</td>\n",
       "      <td>NaN</td>\n",
       "      <td>NaN</td>\n",
       "      <td>6.0</td>\n",
       "      <td>NaN</td>\n",
       "      <td>1.0</td>\n",
       "      <td>NaN</td>\n",
       "      <td>...</td>\n",
       "      <td>0</td>\n",
       "      <td>0</td>\n",
       "      <td>0</td>\n",
       "      <td>0</td>\n",
       "      <td>7226.301740</td>\n",
       "      <td>8567.549110</td>\n",
       "      <td>12999.542264</td>\n",
       "      <td>2</td>\n",
       "      <td>12</td>\n",
       "      <td>1231</td>\n",
       "    </tr>\n",
       "    <tr>\n",
       "      <th>4</th>\n",
       "      <td>2</td>\n",
       "      <td>3</td>\n",
       "      <td>NaN</td>\n",
       "      <td>NaN</td>\n",
       "      <td>NaN</td>\n",
       "      <td>NaN</td>\n",
       "      <td>6.0</td>\n",
       "      <td>NaN</td>\n",
       "      <td>1.0</td>\n",
       "      <td>NaN</td>\n",
       "      <td>...</td>\n",
       "      <td>0</td>\n",
       "      <td>0</td>\n",
       "      <td>0</td>\n",
       "      <td>0</td>\n",
       "      <td>7226.301740</td>\n",
       "      <td>8567.549110</td>\n",
       "      <td>12999.542264</td>\n",
       "      <td>2</td>\n",
       "      <td>12</td>\n",
       "      <td>1231</td>\n",
       "    </tr>\n",
       "  </tbody>\n",
       "</table>\n",
       "<p>5 rows × 243 columns</p>\n",
       "</div>"
      ]
     },
     "execution_count": 39,
     "metadata": {},
     "output_type": "execute_result"
    }
   ],
   "execution_count": 39
  },
  {
   "metadata": {
    "ExecuteTime": {
     "end_time": "2025-06-04T00:12:25.238676Z",
     "start_time": "2025-06-04T00:12:25.236362Z"
    }
   },
   "cell_type": "code",
   "source": "preg.columns",
   "id": "4d9495229e57262a",
   "outputs": [
    {
     "data": {
      "text/plain": [
       "Index(['caseid', 'pregordr', 'howpreg_n', 'howpreg_p', 'moscurrp', 'nowprgdk',\n",
       "       'pregend1', 'pregend2', 'nbrnaliv', 'multbrth',\n",
       "       ...\n",
       "       'poverty_i', 'laborfor_i', 'religion_i', 'metro_i', 'basewgt',\n",
       "       'adj_mod_basewgt', 'finalwgt', 'secu_p', 'sest', 'cmintvw'],\n",
       "      dtype='object', length=243)"
      ]
     },
     "execution_count": 4,
     "metadata": {},
     "output_type": "execute_result"
    }
   ],
   "execution_count": 4
  },
  {
   "metadata": {
    "ExecuteTime": {
     "end_time": "2025-06-04T00:18:47.802891Z",
     "start_time": "2025-06-04T00:18:47.798748Z"
    }
   },
   "cell_type": "code",
   "source": "preg['pregordr'].head()",
   "id": "619cc69c231e0df9",
   "outputs": [
    {
     "data": {
      "text/plain": [
       "0    1\n",
       "1    2\n",
       "2    1\n",
       "3    2\n",
       "4    3\n",
       "Name: pregordr, dtype: int64"
      ]
     },
     "execution_count": 5,
     "metadata": {},
     "output_type": "execute_result"
    }
   ],
   "execution_count": 5
  },
  {
   "metadata": {},
   "cell_type": "markdown",
   "source": [
    "```pregordr``` is a pregnancy serial number: the code for a respondent's first pregnancy is 1, for the second pregnancy is 2, and so on.\n",
    "\n",
    "### Validation\n",
    "If you invest time to validate the data, you can save time later and avoid errors.\n",
    "\n",
    "One way to validate data is to __compute basic statistics and compare them with published results__.\n",
    "\n",
    "Here is the table for ```outcome```, which encodes the outcome of each pregnancy."
   ],
   "id": "7183d833dae1a812"
  },
  {
   "metadata": {
    "ExecuteTime": {
     "end_time": "2025-06-04T00:26:01.693327Z",
     "start_time": "2025-06-04T00:26:01.690846Z"
    }
   },
   "cell_type": "code",
   "source": [
    "def show_table(d):\n",
    "    df = pd.DataFrame(d)\n",
    "    return HTML(df.to_html(index=False))"
   ],
   "id": "f5ec14ce29d31d9c",
   "outputs": [],
   "execution_count": 9
  },
  {
   "metadata": {
    "ExecuteTime": {
     "end_time": "2025-06-04T00:29:13.028226Z",
     "start_time": "2025-06-04T00:29:13.023391Z"
    }
   },
   "cell_type": "code",
   "source": [
    "d = {\n",
    "    \"Value\": [1, 2, 3, 4, 5, 6, \"Total\"],\n",
    "    \"Label\": [\n",
    "        \"LIVE BIRTH\",\n",
    "        \"INDUCED ABORTION\",\n",
    "        \"STILLBIRTH\",\n",
    "        \"MISCARRIAGE\",\n",
    "        \"ECTOPIC PREGNANCY\",\n",
    "        \"CURRENT PREGNANCY\",\n",
    "        \"\",\n",
    "    ],\n",
    "    \"TOTAL\": [9148, 1862, 120, 1921, 190, 352, 13593],\n",
    "}\n",
    "show_table(d)"
   ],
   "id": "4c14b15f2ddb8f03",
   "outputs": [
    {
     "data": {
      "text/plain": [
       "<IPython.core.display.HTML object>"
      ],
      "text/html": [
       "<table border=\"1\" class=\"dataframe\">\n",
       "  <thead>\n",
       "    <tr style=\"text-align: right;\">\n",
       "      <th>Value</th>\n",
       "      <th>Label</th>\n",
       "      <th>TOTAL</th>\n",
       "    </tr>\n",
       "  </thead>\n",
       "  <tbody>\n",
       "    <tr>\n",
       "      <td>1</td>\n",
       "      <td>LIVE BIRTH</td>\n",
       "      <td>9148</td>\n",
       "    </tr>\n",
       "    <tr>\n",
       "      <td>2</td>\n",
       "      <td>INDUCED ABORTION</td>\n",
       "      <td>1862</td>\n",
       "    </tr>\n",
       "    <tr>\n",
       "      <td>3</td>\n",
       "      <td>STILLBIRTH</td>\n",
       "      <td>120</td>\n",
       "    </tr>\n",
       "    <tr>\n",
       "      <td>4</td>\n",
       "      <td>MISCARRIAGE</td>\n",
       "      <td>1921</td>\n",
       "    </tr>\n",
       "    <tr>\n",
       "      <td>5</td>\n",
       "      <td>ECTOPIC PREGNANCY</td>\n",
       "      <td>190</td>\n",
       "    </tr>\n",
       "    <tr>\n",
       "      <td>6</td>\n",
       "      <td>CURRENT PREGNANCY</td>\n",
       "      <td>352</td>\n",
       "    </tr>\n",
       "    <tr>\n",
       "      <td>Total</td>\n",
       "      <td></td>\n",
       "      <td>13593</td>\n",
       "    </tr>\n",
       "  </tbody>\n",
       "</table>"
      ]
     },
     "execution_count": 10,
     "metadata": {},
     "output_type": "execute_result"
    }
   ],
   "execution_count": 10
  },
  {
   "metadata": {},
   "cell_type": "markdown",
   "source": "The \"Total\" column indicates the number of pregnancies with each outcome. Let's check these totals:",
   "id": "7c69c8babc29a4a"
  },
  {
   "metadata": {
    "ExecuteTime": {
     "end_time": "2025-06-04T00:32:34.420418Z",
     "start_time": "2025-06-04T00:32:34.416568Z"
    }
   },
   "cell_type": "code",
   "source": "preg[\"outcome\"].unique()",
   "id": "a996824e6f79beb6",
   "outputs": [
    {
     "data": {
      "text/plain": [
       "array([1, 2, 4, 5, 3, 6])"
      ]
     },
     "execution_count": 12,
     "metadata": {},
     "output_type": "execute_result"
    }
   ],
   "execution_count": 12
  },
  {
   "metadata": {
    "ExecuteTime": {
     "end_time": "2025-06-04T00:30:49.135985Z",
     "start_time": "2025-06-04T00:30:49.132604Z"
    }
   },
   "cell_type": "code",
   "source": "preg[\"outcome\"].value_counts().sort_index()",
   "id": "a2315109e37a404b",
   "outputs": [
    {
     "data": {
      "text/plain": [
       "outcome\n",
       "1    9148\n",
       "2    1862\n",
       "3     120\n",
       "4    1921\n",
       "5     190\n",
       "6     352\n",
       "Name: count, dtype: int64"
      ]
     },
     "execution_count": 11,
     "metadata": {},
     "output_type": "execute_result"
    }
   ],
   "execution_count": 11
  },
  {
   "metadata": {},
   "cell_type": "markdown",
   "source": "We can confirm that the values in ```outcome``` are correct. Similarly, here is the published table for ```birthwgt_lb```.",
   "id": "20bcac969ee7f6c2"
  },
  {
   "metadata": {
    "ExecuteTime": {
     "end_time": "2025-06-04T00:47:27.359085Z",
     "start_time": "2025-06-04T00:47:27.356940Z"
    }
   },
   "cell_type": "code",
   "source": "counts = preg['birthwgt_lb'].value_counts().sort_index()",
   "id": "4fa500642829f06e",
   "outputs": [],
   "execution_count": 24
  },
  {
   "metadata": {
    "ExecuteTime": {
     "end_time": "2025-06-04T00:47:40.555895Z",
     "start_time": "2025-06-04T00:47:40.551327Z"
    }
   },
   "cell_type": "code",
   "source": "counts.loc[0.0:5.0].sum()",
   "id": "de29562d65c6539c",
   "outputs": [
    {
     "data": {
      "text/plain": [
       "np.int64(1125)"
      ]
     },
     "execution_count": 25,
     "metadata": {},
     "output_type": "execute_result"
    }
   ],
   "execution_count": 25
  },
  {
   "metadata": {
    "ExecuteTime": {
     "end_time": "2025-06-04T00:47:59.483559Z",
     "start_time": "2025-06-04T00:47:59.477700Z"
    }
   },
   "cell_type": "code",
   "source": [
    "d = {\n",
    "    \"Value\": [\".\", \"0-5\", \"6\", \"7\", \"8\", \"9-95\", \"97\", \"98\", \"99\", \"Total\"],\n",
    "    \"Label\": [\n",
    "        \"inapplicable\",\n",
    "        \"UNDER 6 POUNDS\",\n",
    "        \"6 POUNDS\",\n",
    "        \"7 POUNDS\",\n",
    "        \"8 POUNDS\",\n",
    "        \"9 POUNDS OR MORE\",\n",
    "        \"Not ascertained\",\n",
    "        \"REFUSED\",\n",
    "        \"DON'T KNOW\",\n",
    "        \"\",\n",
    "    ],\n",
    "    \"TOTAL\": [4449, 1125, 2223, 3049, 1889, 799, 1, 1, 57, 13593],\n",
    "}\n",
    "show_table(d)"
   ],
   "id": "17a424a92104146d",
   "outputs": [
    {
     "data": {
      "text/plain": [
       "<IPython.core.display.HTML object>"
      ],
      "text/html": [
       "<table border=\"1\" class=\"dataframe\">\n",
       "  <thead>\n",
       "    <tr style=\"text-align: right;\">\n",
       "      <th>Value</th>\n",
       "      <th>Label</th>\n",
       "      <th>TOTAL</th>\n",
       "    </tr>\n",
       "  </thead>\n",
       "  <tbody>\n",
       "    <tr>\n",
       "      <td>.</td>\n",
       "      <td>inapplicable</td>\n",
       "      <td>4449</td>\n",
       "    </tr>\n",
       "    <tr>\n",
       "      <td>0-5</td>\n",
       "      <td>UNDER 6 POUNDS</td>\n",
       "      <td>1125</td>\n",
       "    </tr>\n",
       "    <tr>\n",
       "      <td>6</td>\n",
       "      <td>6 POUNDS</td>\n",
       "      <td>2223</td>\n",
       "    </tr>\n",
       "    <tr>\n",
       "      <td>7</td>\n",
       "      <td>7 POUNDS</td>\n",
       "      <td>3049</td>\n",
       "    </tr>\n",
       "    <tr>\n",
       "      <td>8</td>\n",
       "      <td>8 POUNDS</td>\n",
       "      <td>1889</td>\n",
       "    </tr>\n",
       "    <tr>\n",
       "      <td>9-95</td>\n",
       "      <td>9 POUNDS OR MORE</td>\n",
       "      <td>799</td>\n",
       "    </tr>\n",
       "    <tr>\n",
       "      <td>97</td>\n",
       "      <td>Not ascertained</td>\n",
       "      <td>1</td>\n",
       "    </tr>\n",
       "    <tr>\n",
       "      <td>98</td>\n",
       "      <td>REFUSED</td>\n",
       "      <td>1</td>\n",
       "    </tr>\n",
       "    <tr>\n",
       "      <td>99</td>\n",
       "      <td>DON'T KNOW</td>\n",
       "      <td>57</td>\n",
       "    </tr>\n",
       "    <tr>\n",
       "      <td>Total</td>\n",
       "      <td></td>\n",
       "      <td>13593</td>\n",
       "    </tr>\n",
       "  </tbody>\n",
       "</table>"
      ]
     },
     "execution_count": 26,
     "metadata": {},
     "output_type": "execute_result"
    }
   ],
   "execution_count": 26
  },
  {
   "metadata": {
    "ExecuteTime": {
     "end_time": "2025-06-04T00:53:07.482903Z",
     "start_time": "2025-06-04T00:53:07.476868Z"
    }
   },
   "cell_type": "code",
   "source": [
    "counts = preg['birthwgt_lb'].value_counts(dropna=False).sort_index()\n",
    "# value_counts(dropna=False) does not ignore values that are \"NA\" or \"Not applicable\"\n",
    "counts"
   ],
   "id": "7613f95b8d82687b",
   "outputs": [
    {
     "data": {
      "text/plain": [
       "birthwgt_lb\n",
       "0.0        8\n",
       "1.0       40\n",
       "2.0       53\n",
       "3.0       98\n",
       "4.0      229\n",
       "5.0      697\n",
       "6.0     2223\n",
       "7.0     3049\n",
       "8.0     1889\n",
       "9.0      623\n",
       "10.0     132\n",
       "11.0      26\n",
       "12.0      10\n",
       "13.0       3\n",
       "14.0       3\n",
       "15.0       1\n",
       "51.0       1\n",
       "97.0       1\n",
       "98.0       1\n",
       "99.0      57\n",
       "NaN     4449\n",
       "Name: count, dtype: int64"
      ]
     },
     "execution_count": 28,
     "metadata": {},
     "output_type": "execute_result"
    }
   ],
   "execution_count": 28
  },
  {
   "metadata": {},
   "cell_type": "markdown",
   "source": "The values 97, 98, and 99 represent cases where the birth weight is unknown. A simple option is to replace these values with ```NaN```. At the same time, we will also replace a value that is clearly wrong, 51 pounds.",
   "id": "5cb170ae199811c3"
  },
  {
   "metadata": {
    "ExecuteTime": {
     "end_time": "2025-06-04T00:56:43.708687Z",
     "start_time": "2025-06-04T00:56:43.704523Z"
    }
   },
   "cell_type": "code",
   "source": "preg[\"birthwgt_lb\"] = preg[\"birthwgt_lb\"].replace([51, 97, 98, 99], np.nan)",
   "id": "6564693f40d12b99",
   "outputs": [],
   "execution_count": 31
  },
  {
   "metadata": {
    "ExecuteTime": {
     "end_time": "2025-06-04T00:57:28.061069Z",
     "start_time": "2025-06-04T00:57:28.057433Z"
    }
   },
   "cell_type": "code",
   "source": "preg[\"birthwgt_lb\"].value_counts(dropna=False).sort_index()",
   "id": "aa7730d1e0a25088",
   "outputs": [
    {
     "data": {
      "text/plain": [
       "birthwgt_lb\n",
       "0.0        8\n",
       "1.0       40\n",
       "2.0       53\n",
       "3.0       98\n",
       "4.0      229\n",
       "5.0      697\n",
       "6.0     2223\n",
       "7.0     3049\n",
       "8.0     1889\n",
       "9.0      623\n",
       "10.0     132\n",
       "11.0      26\n",
       "12.0      10\n",
       "13.0       3\n",
       "14.0       3\n",
       "15.0       1\n",
       "NaN     4509\n",
       "Name: count, dtype: int64"
      ]
     },
     "execution_count": 33,
     "metadata": {},
     "output_type": "execute_result"
    }
   ],
   "execution_count": 33
  },
  {
   "metadata": {},
   "cell_type": "markdown",
   "source": [
    "### Transformation\n",
    "For example,  ```agepreg``` contains the mother's age at the end of the pregnancy. We can use ```mean``` method to compute its average."
   ],
   "id": "ed79fafecff55927"
  },
  {
   "metadata": {
    "ExecuteTime": {
     "end_time": "2025-06-04T01:04:36.544190Z",
     "start_time": "2025-06-04T01:04:36.539536Z"
    }
   },
   "cell_type": "code",
   "source": "preg['agepreg'].mean()  # an integer number of centiyears (hundredths of a year)",
   "id": "d1763ec2dbf02437",
   "outputs": [
    {
     "data": {
      "text/plain": [
       "np.float64(2468.8151197039497)"
      ]
     },
     "execution_count": 40,
     "metadata": {},
     "output_type": "execute_result"
    }
   ],
   "execution_count": 40
  },
  {
   "metadata": {},
   "cell_type": "markdown",
   "source": "To convert it to years, we can divide through by 100.",
   "id": "a8fd0f8c0917a87e"
  },
  {
   "metadata": {
    "ExecuteTime": {
     "end_time": "2025-06-04T01:04:37.925787Z",
     "start_time": "2025-06-04T01:04:37.921142Z"
    }
   },
   "cell_type": "code",
   "source": [
    "preg['agepreg'] /= 100\n",
    "preg['agepreg'].mean()"
   ],
   "id": "4fd5f44a5b6789f3",
   "outputs": [
    {
     "data": {
      "text/plain": [
       "np.float64(24.6881511970395)"
      ]
     },
     "execution_count": 41,
     "metadata": {},
     "output_type": "execute_result"
    }
   ],
   "execution_count": 41
  },
  {
   "metadata": {},
   "cell_type": "markdown",
   "source": [
    "As another example, ```birthwgt_lb``` and ```birthwgt_oz``` contain birth weights with the pounds and ounces in separate columns. It will be more convenient to combine them into a single column that contains weights in pounds and fractions of a pound.\n",
    "\n",
    "First, we'll clean ```birthwgt_oz``` as we did with ```birthwgt_lb```."
   ],
   "id": "8b56a70fa536183a"
  },
  {
   "metadata": {
    "ExecuteTime": {
     "end_time": "2025-06-04T01:07:36.888246Z",
     "start_time": "2025-06-04T01:07:36.883541Z"
    }
   },
   "cell_type": "code",
   "source": "preg['birthwgt_oz'].value_counts(dropna=False).sort_index()",
   "id": "e6f71944b9faeaf5",
   "outputs": [
    {
     "data": {
      "text/plain": [
       "birthwgt_oz\n",
       "0.0     1037\n",
       "1.0      408\n",
       "2.0      603\n",
       "3.0      533\n",
       "4.0      525\n",
       "5.0      535\n",
       "6.0      709\n",
       "7.0      501\n",
       "8.0      756\n",
       "9.0      505\n",
       "10.0     475\n",
       "11.0     557\n",
       "12.0     555\n",
       "13.0     487\n",
       "14.0     475\n",
       "15.0     378\n",
       "97.0       1\n",
       "98.0       1\n",
       "99.0      46\n",
       "NaN     4506\n",
       "Name: count, dtype: int64"
      ]
     },
     "execution_count": 42,
     "metadata": {},
     "output_type": "execute_result"
    }
   ],
   "execution_count": 42
  },
  {
   "metadata": {
    "ExecuteTime": {
     "end_time": "2025-06-04T01:08:14.705624Z",
     "start_time": "2025-06-04T01:08:14.703168Z"
    }
   },
   "cell_type": "code",
   "source": "preg[\"birthwgt_oz\"] = preg[\"birthwgt_oz\"].replace([97, 98, 99], np.nan)",
   "id": "2d52f39f33c5d32a",
   "outputs": [],
   "execution_count": 43
  },
  {
   "metadata": {},
   "cell_type": "markdown",
   "source": "Now we can use the cleaned values to create a new column that combines pounds and ounces into a single quantity.",
   "id": "2ed585c36add1b03"
  },
  {
   "metadata": {
    "ExecuteTime": {
     "end_time": "2025-06-04T01:09:49.174197Z",
     "start_time": "2025-06-04T01:09:49.169915Z"
    }
   },
   "cell_type": "code",
   "source": [
    "preg['totalwgt_lb'] = preg['birthwgt_lb'] + preg['birthwgt_oz'] / 16.0\n",
    "preg['totalwgt_lb'].mean()"
   ],
   "id": "bf205575c3a69b23",
   "outputs": [
    {
     "data": {
      "text/plain": [
       "np.float64(7.270508352693882)"
      ]
     },
     "execution_count": 44,
     "metadata": {},
     "output_type": "execute_result"
    }
   ],
   "execution_count": 44
  },
  {
   "metadata": {},
   "cell_type": "markdown",
   "source": [
    "### Summary Statistics\n",
    "A **statistic** is a number derived from a dataset, usually intended to quantify some aspect of the data. Examples included counts, mean, variance, and standard deviation.\n",
    "\n",
    "Variance is a statistic that quantifies the spread of a set of values. It is the mean of the squared deviations, which are the distances of each point from the mean."
   ],
   "id": "b15494d2db099b77"
  },
  {
   "metadata": {
    "ExecuteTime": {
     "end_time": "2025-06-04T01:15:50.161725Z",
     "start_time": "2025-06-04T01:15:50.156095Z"
    }
   },
   "cell_type": "code",
   "source": [
    "weights = preg['totalwgt_lb']\n",
    "mean = weights.mean()\n",
    "\n",
    "squared_deviations = (weights - mean) ** 2\n",
    "squared_deviations"
   ],
   "id": "c606151e3a10a470",
   "outputs": [
    {
     "data": {
      "text/plain": [
       "0        2.377738\n",
       "1        0.365410\n",
       "2        3.439139\n",
       "3        0.073175\n",
       "4        1.172907\n",
       "           ...   \n",
       "13588    1.172907\n",
       "13589         NaN\n",
       "13590         NaN\n",
       "13591    0.052666\n",
       "13592    0.052666\n",
       "Name: totalwgt_lb, Length: 13593, dtype: float64"
      ]
     },
     "execution_count": 46,
     "metadata": {},
     "output_type": "execute_result"
    }
   ],
   "execution_count": 46
  },
  {
   "metadata": {
    "ExecuteTime": {
     "end_time": "2025-06-04T01:17:16.932366Z",
     "start_time": "2025-06-04T01:17:16.927845Z"
    }
   },
   "cell_type": "code",
   "source": [
    "# Compute the mean of the squared deviations:\n",
    "var = squared_deviations.mean()\n",
    "var"
   ],
   "id": "60beb274ae2a02c9",
   "outputs": [
    {
     "data": {
      "text/plain": [
       "np.float64(2.1980768905984482)"
      ]
     },
     "execution_count": 48,
     "metadata": {},
     "output_type": "execute_result"
    }
   ],
   "execution_count": 48
  },
  {
   "metadata": {
    "ExecuteTime": {
     "end_time": "2025-06-04T01:17:29.053627Z",
     "start_time": "2025-06-04T01:17:29.050955Z"
    }
   },
   "cell_type": "code",
   "source": "weights.var()",
   "id": "26b6cdf7563be3f6",
   "outputs": [
    {
     "data": {
      "text/plain": [
       "np.float64(2.1983200945031394)"
      ]
     },
     "execution_count": 49,
     "metadata": {},
     "output_type": "execute_result"
    }
   ],
   "execution_count": 49
  },
  {
   "metadata": {},
   "cell_type": "markdown",
   "source": "Variance is useful in some computations, but not a good way to describe a dataset. A better option is the **standard deviation**, which is the square root of variance.",
   "id": "c38508a258180d9c"
  },
  {
   "metadata": {
    "ExecuteTime": {
     "end_time": "2025-06-04T01:19:24.498873Z",
     "start_time": "2025-06-04T01:19:24.495128Z"
    }
   },
   "cell_type": "code",
   "source": "weights.std(ddof=0)",
   "id": "7f8beb7c32a08b8e",
   "outputs": [
    {
     "data": {
      "text/plain": [
       "np.float64(1.4825912756381807)"
      ]
     },
     "execution_count": 50,
     "metadata": {},
     "output_type": "execute_result"
    }
   ],
   "execution_count": 50
  },
  {
   "metadata": {},
   "cell_type": "markdown",
   "source": [
    "### Interpretation\n",
    "As an example, let's select the rows in the pregnancy file with ```caseid``` 10229."
   ],
   "id": "8529057a3d2b7378"
  },
  {
   "metadata": {
    "ExecuteTime": {
     "end_time": "2025-06-04T01:23:26.627527Z",
     "start_time": "2025-06-04T01:23:26.602667Z"
    }
   },
   "cell_type": "code",
   "source": [
    "subset = preg.query(\"caseid == 10229\")\n",
    "subset.shape"
   ],
   "id": "c1f9417a47dd1925",
   "outputs": [
    {
     "data": {
      "text/plain": [
       "(7, 244)"
      ]
     },
     "execution_count": 53,
     "metadata": {},
     "output_type": "execute_result"
    }
   ],
   "execution_count": 53
  },
  {
   "metadata": {
    "ExecuteTime": {
     "end_time": "2025-06-04T01:23:40.358251Z",
     "start_time": "2025-06-04T01:23:40.355891Z"
    }
   },
   "cell_type": "code",
   "source": "subset['outcome'].values",
   "id": "3e12202fee31d9bd",
   "outputs": [
    {
     "data": {
      "text/plain": [
       "array([4, 4, 4, 4, 4, 4, 1])"
      ]
     },
     "execution_count": 54,
     "metadata": {},
     "output_type": "execute_result"
    }
   ],
   "execution_count": 54
  },
  {
   "metadata": {},
   "cell_type": "code",
   "outputs": [],
   "execution_count": null,
   "source": "",
   "id": "9ab1c9b4e5a5fb3a"
  }
 ],
 "metadata": {
  "kernelspec": {
   "display_name": "Python 3",
   "language": "python",
   "name": "python3"
  },
  "language_info": {
   "codemirror_mode": {
    "name": "ipython",
    "version": 2
   },
   "file_extension": ".py",
   "mimetype": "text/x-python",
   "name": "python",
   "nbconvert_exporter": "python",
   "pygments_lexer": "ipython2",
   "version": "2.7.6"
  }
 },
 "nbformat": 4,
 "nbformat_minor": 5
}
